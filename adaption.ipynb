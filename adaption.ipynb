{
 "metadata": {
  "language_info": {
   "codemirror_mode": {
    "name": "ipython",
    "version": 3
   },
   "file_extension": ".py",
   "mimetype": "text/x-python",
   "name": "python",
   "nbconvert_exporter": "python",
   "pygments_lexer": "ipython3",
   "version": 3
  },
  "orig_nbformat": 2,
  "kernelspec": {
   "name": "python_defaultSpec_1597234057111",
   "display_name": "Python 3.8.2 64-bit"
  }
 },
 "nbformat": 4,
 "nbformat_minor": 2,
 "cells": [
  {
   "cell_type": "code",
   "execution_count": 25,
   "metadata": {},
   "outputs": [],
   "source": [
    "import pandas as pd\n",
    "from sklearn.ensemble import RandomForestRegressor\n",
    "from sklearn.ensemble import GradientBoostingClassifier\n",
    "from sklearn.datasets import make_regression\n",
    "from sklearn import linear_model\n",
    "from sklearn.model_selection import train_test_split\n",
    "from sklearn.metrics import mean_absolute_error,r2_score\n",
    "from sklearn.preprocessing import LabelEncoder\n",
    "from sklearn.linear_model import LinearRegression\n",
    "from sklearn.multioutput import MultiOutputRegressor\n",
    "from sklearn.model_selection import cross_val_score\n",
    "from sklearn.model_selection import RepeatedStratifiedKFold\n",
    "from sklearn.linear_model import LogisticRegression\n",
    "from sklearn.neighbors import KNeighborsClassifier\n",
    "from sklearn.tree import DecisionTreeClassifier\n",
    "from sklearn.impute import SimpleImputer\n",
    "from sklearn.svm import SVC\n",
    "from sklearn.naive_bayes import GaussianNB\n",
    "from matplotlib import pyplot\n",
    "import numpy as np"
   ]
  },
  {
   "cell_type": "code",
   "execution_count": 26,
   "metadata": {},
   "outputs": [],
   "source": [
    "# get a list of models to evaluate\n",
    "def get_models():\n",
    "\tmodels = dict()\n",
    "\tmodels['lr'] = LogisticRegression()\n",
    "\tmodels['knn'] = KNeighborsClassifier()\n",
    "\tmodels['bayes'] = GaussianNB()\n",
    "\tmodels['cart'] = DecisionTreeClassifier()\n",
    "\tmodels['svm'] = SVC()\n",
    "\treturn models\n"
   ]
  },
  {
   "cell_type": "code",
   "execution_count": 27,
   "metadata": {},
   "outputs": [],
   "source": [
    "# evaluate a given model using cross-validation\n",
    "def evaluate_model(model, X, y):\n",
    "\tcv = RepeatedStratifiedKFold(n_splits=10, n_repeats=3, random_state=1)\n",
    "\tscores = cross_val_score(model, X, y, scoring='accuracy', cv=cv, n_jobs=-1, error_score='raise')\n",
    "\treturn scores\n"
   ]
  },
  {
   "cell_type": "code",
   "execution_count": 28,
   "metadata": {},
   "outputs": [],
   "source": [
    "# reading the files\n",
    "X = pd.read_csv('Train.csv', sep=r'\\s*,\\s*')\n",
    "X_test = pd.read_csv('Test.csv', sep=r'\\s*,\\s*')\n",
    "X_sample = pd.read_csv('Test.csv', sep=r'\\s*,\\s*')"
   ]
  },
  {
   "cell_type": "code",
   "execution_count": 29,
   "metadata": {},
   "outputs": [],
   "source": [
    "# data filling and using encoding for some fields\n",
    "#X.fillna(X.mean(),inplace=True)\n",
    "Y= X.breed_category\n",
    "Y2 = X.pet_category\n",
    "X.drop(['breed_category','pet_category','issue_date','listing_date','pet_id'],axis=1,inplace=True)\n",
    "###\n",
    "X_test.drop(['issue_date','listing_date','pet_id'],axis=1,inplace=True)\n",
    "\n",
    "Col_to_encode = ['color_type']\n",
    "\n",
    "X[Col_to_encode]= X[Col_to_encode].apply(lambda col:LabelEncoder().fit_transform(col))\n",
    "###\n",
    "X_test[Col_to_encode]= X_test[Col_to_encode].apply(lambda col:LabelEncoder().fit_transform(col))\n",
    "#X_test.fillna(X_test.mean(), inplace=True)"
   ]
  },
  {
   "cell_type": "code",
   "execution_count": 35,
   "metadata": {
    "tags": []
   },
   "outputs": [
    {
     "output_type": "stream",
     "name": "stdout",
     "text": ">lr 0.759 (0.010)\n>knn 0.779 (0.008)\n>bayes 0.810 (0.009)\n>cart 0.888 (0.007)\n>svm 0.803 (0.009)\n"
    }
   ],
   "source": [
    "#checking the model accuracy and mae scores\n",
    "models = get_models()\n",
    "results,names = list(),list()\n",
    "for name, model in models.items():\n",
    "\tscores = evaluate_model(model, X, Y)\n",
    "\tresults.append(scores)\n",
    "\tnames.append(name)\n",
    "\tprint('>%s %.3f (%.3f)' % (name, np.mean(scores), np.std(scores)))"
   ]
  },
  {
   "cell_type": "code",
   "execution_count": 30,
   "metadata": {
    "tags": []
   },
   "outputs": [
    {
     "output_type": "execute_result",
     "data": {
      "text/plain": "    condition  color_type  length  height  X1  X2\n2           2          15       0      41  15   4\n21          1          15       0      14  11   4\n35          1          53       0      22  13   9\n38          1          15       1       8   0   6\n43          1           2       0      30   9   2",
      "text/html": "<div>\n<style scoped>\n    .dataframe tbody tr th:only-of-type {\n        vertical-align: middle;\n    }\n\n    .dataframe tbody tr th {\n        vertical-align: top;\n    }\n\n    .dataframe thead th {\n        text-align: right;\n    }\n</style>\n<table border=\"1\" class=\"dataframe\">\n  <thead>\n    <tr style=\"text-align: right;\">\n      <th></th>\n      <th>condition</th>\n      <th>color_type</th>\n      <th>length</th>\n      <th>height</th>\n      <th>X1</th>\n      <th>X2</th>\n    </tr>\n  </thead>\n  <tbody>\n    <tr>\n      <th>2</th>\n      <td>2</td>\n      <td>15</td>\n      <td>0</td>\n      <td>41</td>\n      <td>15</td>\n      <td>4</td>\n    </tr>\n    <tr>\n      <th>21</th>\n      <td>1</td>\n      <td>15</td>\n      <td>0</td>\n      <td>14</td>\n      <td>11</td>\n      <td>4</td>\n    </tr>\n    <tr>\n      <th>35</th>\n      <td>1</td>\n      <td>53</td>\n      <td>0</td>\n      <td>22</td>\n      <td>13</td>\n      <td>9</td>\n    </tr>\n    <tr>\n      <th>38</th>\n      <td>1</td>\n      <td>15</td>\n      <td>1</td>\n      <td>8</td>\n      <td>0</td>\n      <td>6</td>\n    </tr>\n    <tr>\n      <th>43</th>\n      <td>1</td>\n      <td>2</td>\n      <td>0</td>\n      <td>30</td>\n      <td>9</td>\n      <td>2</td>\n    </tr>\n  </tbody>\n</table>\n</div>"
     },
     "metadata": {},
     "execution_count": 30
    }
   ],
   "source": [
    "#predicting missing values for train data set\n",
    "jcols = ['condition']\n",
    "notnans = X[jcols].notnull().all(axis=1)\n",
    "df_notnans = X[notnans]\n",
    "icols = ['color_type','length','height','X1','X2']\n",
    "\n",
    "train_X,val_X,train_Y,val_Y = train_test_split(df_notnans[icols],df_notnans[jcols],train_size=0.8,test_size=0.2,random_state=0)\n",
    "\n",
    "#if multiple missing values then\n",
    "#regr_multirf = MultiOutputRegressor(RandomForestRegressor(max_depth=30,random_state=0))\n",
    "model_random = RandomForestRegressor(n_estimators=100, random_state=1)\n",
    "model_random.fit(train_X,train_Y)\n",
    "preds = model_random.predict(val_X)\n",
    "\n",
    "df_nans = X.loc[~notnans].copy()\n",
    "df_nans[jcols] = model_random.predict(df_nans[icols])\n",
    "X.loc[~notnans] = df_nans.round().astype(int)\n",
    "df_nans.round().astype(int).head()"
   ]
  },
  {
   "cell_type": "code",
   "execution_count": 31,
   "metadata": {},
   "outputs": [
    {
     "output_type": "execute_result",
     "data": {
      "text/plain": "    condition  color_type  length  height  X1  X2\n19          2          14       1      34  15   4\n27          1          28       0      24  15   4\n31          1          14       1       6  15   4\n35          2          28       0      19  18   4\n40          1           2       1      35  16   9",
      "text/html": "<div>\n<style scoped>\n    .dataframe tbody tr th:only-of-type {\n        vertical-align: middle;\n    }\n\n    .dataframe tbody tr th {\n        vertical-align: top;\n    }\n\n    .dataframe thead th {\n        text-align: right;\n    }\n</style>\n<table border=\"1\" class=\"dataframe\">\n  <thead>\n    <tr style=\"text-align: right;\">\n      <th></th>\n      <th>condition</th>\n      <th>color_type</th>\n      <th>length</th>\n      <th>height</th>\n      <th>X1</th>\n      <th>X2</th>\n    </tr>\n  </thead>\n  <tbody>\n    <tr>\n      <th>19</th>\n      <td>2</td>\n      <td>14</td>\n      <td>1</td>\n      <td>34</td>\n      <td>15</td>\n      <td>4</td>\n    </tr>\n    <tr>\n      <th>27</th>\n      <td>1</td>\n      <td>28</td>\n      <td>0</td>\n      <td>24</td>\n      <td>15</td>\n      <td>4</td>\n    </tr>\n    <tr>\n      <th>31</th>\n      <td>1</td>\n      <td>14</td>\n      <td>1</td>\n      <td>6</td>\n      <td>15</td>\n      <td>4</td>\n    </tr>\n    <tr>\n      <th>35</th>\n      <td>2</td>\n      <td>28</td>\n      <td>0</td>\n      <td>19</td>\n      <td>18</td>\n      <td>4</td>\n    </tr>\n    <tr>\n      <th>40</th>\n      <td>1</td>\n      <td>2</td>\n      <td>1</td>\n      <td>35</td>\n      <td>16</td>\n      <td>9</td>\n    </tr>\n  </tbody>\n</table>\n</div>"
     },
     "metadata": {},
     "execution_count": 31
    }
   ],
   "source": [
    "#predicting missing values for test data set\n",
    "jcols = ['condition']\n",
    "notnans = X_test[jcols].notnull().all(axis=1)\n",
    "df_notnans = X_test[notnans]\n",
    "icols = ['color_type','length','height','X1','X2']\n",
    "\n",
    "train_X,val_X,train_Y,val_Y = train_test_split(df_notnans[icols],df_notnans[jcols],train_size=0.8,test_size=0.2,random_state=0)\n",
    "\n",
    "#if multiple missing values then\n",
    "#regr_multirf = MultiOutputRegressor(RandomForestRegressor(max_depth=30,random_state=0))\n",
    "model_random = RandomForestRegressor(n_estimators=100, random_state=1)\n",
    "model_random.fit(train_X,train_Y)\n",
    "preds = model_random.predict(val_X)\n",
    "\n",
    "df_nans = X_test.loc[~notnans].copy()\n",
    "df_nans[jcols] = model_random.predict(df_nans[icols])\n",
    "X_test.loc[~notnans] = df_nans.round().astype(int)\n",
    "df_nans.round().astype(int).head()"
   ]
  },
  {
   "cell_type": "code",
   "execution_count": 32,
   "metadata": {
    "tags": []
   },
   "outputs": [
    {
     "output_type": "stream",
     "name": "stdout",
     "text": "0.10061056543668702 0.7327310653947021\n"
    }
   ],
   "source": [
    "#after checking all the models best model is used and checking the mae scores\n",
    "\n",
    "train_X,val_X,train_Y,val_Y = train_test_split(X,Y,train_size=0.8,test_size=0.2,random_state=0)\n",
    "\n",
    "model_random = GradientBoostingClassifier()\n",
    "model_random.fit(train_X,train_Y)\n",
    "preds = model_random.predict(val_X)\n",
    "\n",
    "me = mean_absolute_error(val_Y,preds)\n",
    "r_score = r2_score(val_Y,preds)\n",
    "print(me,r_score)"
   ]
  },
  {
   "cell_type": "code",
   "execution_count": 33,
   "metadata": {},
   "outputs": [],
   "source": [
    "#predicting the test dataset and creating another test file for extra field prediction\n",
    "\n",
    "model_random.fit(X,Y)\n",
    "preds = model_random.predict(X_test)\n",
    "output = pd.DataFrame({'pet_id':X_sample.pet_id,'condition':X_test.condition,'color_type':X_test.color_type,'length(m)':X_test.length,'height(cm)':X_test.height,'X1':X_test.X1,'X2':X_test.X2,'breed_category':preds.astype(int)})\n",
    "output.to_csv('new_test.csv', index=False)"
   ]
  },
  {
   "cell_type": "code",
   "execution_count": 34,
   "metadata": {},
   "outputs": [],
   "source": [
    "#now predicting for pet_category\n",
    "\n",
    "X_test = pd.read_csv('new_test.csv')\n",
    "X_sample = pd.read_csv('new_test.csv')\n",
    "X_test.drop(['pet_id','breed_category'],axis=1,inplace=True)\n",
    "\n",
    "# X2 = pd.read_csv('train.csv')\n",
    "# X2.fillna(X.mean(),inplace=True)\n",
    "# Y2 = X2.pet_category\n",
    "# X2.drop(['pet_category','issue_date','listing_date','pet_id'],axis=1,inplace=True)\n",
    "# Col_to_encode = ['color_type']\n",
    "# X2[Col_to_encode]= X[Col_to_encode].apply(lambda col:LabelEncoder().fit_transform(col))\n",
    "\n",
    "model_random.fit(X,Y2)\n",
    "preds = model_random.predict(X_test)\n",
    "output = pd.DataFrame({'pet_id':X_sample.pet_id,'breed_category':X_sample.breed_category,'pet_category':preds.astype(int)})\n",
    "output.to_csv('submission.csv', index=False)"
   ]
  }
 ]
}